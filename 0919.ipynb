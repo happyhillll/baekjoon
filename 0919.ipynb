{
  "nbformat": 4,
  "nbformat_minor": 0,
  "metadata": {
    "colab": {
      "name": "0919.ipynb",
      "provenance": [],
      "authorship_tag": "ABX9TyM1xzrPqeZ7l6FyZ1dqXfQc",
      "include_colab_link": true
    },
    "kernelspec": {
      "name": "python3",
      "display_name": "Python 3"
    },
    "language_info": {
      "name": "python"
    }
  },
  "cells": [
    {
      "cell_type": "markdown",
      "metadata": {
        "id": "view-in-github",
        "colab_type": "text"
      },
      "source": [
        "<a href=\"https://colab.research.google.com/github/happyhillll/baekjoon/blob/main/0919.ipynb\" target=\"_parent\"><img src=\"https://colab.research.google.com/assets/colab-badge.svg\" alt=\"Open In Colab\"/></a>"
      ]
    },
    {
      "cell_type": "markdown",
      "metadata": {
        "id": "TL-vtXWm-j60"
      },
      "source": [
        "#비교연산자: 결과는 true, false"
      ]
    },
    {
      "cell_type": "code",
      "metadata": {
        "colab": {
          "base_uri": "https://localhost:8080/"
        },
        "id": "TZYIwvE9-VN1",
        "outputId": "f9d509ee-8aae-4d02-b5ab-f80ef7fc5cee"
      },
      "source": [
        "10==10 "
      ],
      "execution_count": 1,
      "outputs": [
        {
          "output_type": "execute_result",
          "data": {
            "text/plain": [
              "True"
            ]
          },
          "metadata": {},
          "execution_count": 1
        }
      ]
    },
    {
      "cell_type": "code",
      "metadata": {
        "colab": {
          "base_uri": "https://localhost:8080/"
        },
        "id": "QhgUpEuy-d1P",
        "outputId": "8d80c44f-5e49-45f6-ecb8-20d1cbc4ac8b"
      },
      "source": [
        "10!=10"
      ],
      "execution_count": 2,
      "outputs": [
        {
          "output_type": "execute_result",
          "data": {
            "text/plain": [
              "False"
            ]
          },
          "metadata": {},
          "execution_count": 2
        }
      ]
    },
    {
      "cell_type": "code",
      "metadata": {
        "id": "RGhkmUGo-t9Q"
      },
      "source": [
        "# >,>=,<,<="
      ],
      "execution_count": 3,
      "outputs": []
    },
    {
      "cell_type": "markdown",
      "metadata": {
        "id": "gTsQJzR0-4ff"
      },
      "source": [
        "#논리연산자 : and, or, not"
      ]
    },
    {
      "cell_type": "code",
      "metadata": {
        "colab": {
          "base_uri": "https://localhost:8080/"
        },
        "id": "sRXVR_Nb_BMB",
        "outputId": "76c329dd-c663-44a6-97e3-bbec269be263"
      },
      "source": [
        "a=10\n",
        "b=60\n",
        "a<50 and b<70"
      ],
      "execution_count": 4,
      "outputs": [
        {
          "output_type": "execute_result",
          "data": {
            "text/plain": [
              "True"
            ]
          },
          "metadata": {},
          "execution_count": 4
        }
      ]
    },
    {
      "cell_type": "code",
      "metadata": {
        "colab": {
          "base_uri": "https://localhost:8080/"
        },
        "id": "GkrItvfL_OFP",
        "outputId": "9a23865f-9743-4dac-bde4-6d2bd5214fc4"
      },
      "source": [
        "not a>100"
      ],
      "execution_count": 5,
      "outputs": [
        {
          "output_type": "execute_result",
          "data": {
            "text/plain": [
              "True"
            ]
          },
          "metadata": {},
          "execution_count": 5
        }
      ]
    },
    {
      "cell_type": "markdown",
      "metadata": {
        "id": "7O-knfA9_fh5"
      },
      "source": [
        "#문자열 연산자 : 문자열을 더하거나 곱하기"
      ]
    },
    {
      "cell_type": "code",
      "metadata": {
        "colab": {
          "base_uri": "https://localhost:8080/",
          "height": 37
        },
        "id": "EHA0KxSB_ndC",
        "outputId": "722dece6-a7f1-4825-fcbc-dd72c07acc18"
      },
      "source": [
        "head=\"minji\"\n",
        "tail=\" is pretty!\"\n",
        "head+tail"
      ],
      "execution_count": 8,
      "outputs": [
        {
          "output_type": "execute_result",
          "data": {
            "application/vnd.google.colaboratory.intrinsic+json": {
              "type": "string"
            },
            "text/plain": [
              "'minji is pretty!'"
            ]
          },
          "metadata": {},
          "execution_count": 8
        }
      ]
    },
    {
      "cell_type": "code",
      "metadata": {
        "colab": {
          "base_uri": "https://localhost:8080/",
          "height": 37
        },
        "id": "4dTh0d1t_y6i",
        "outputId": "e741173f-7e5d-4ef9-9cac-33ce3b29440b"
      },
      "source": [
        "w='python '\n",
        "w*5"
      ],
      "execution_count": 9,
      "outputs": [
        {
          "output_type": "execute_result",
          "data": {
            "application/vnd.google.colaboratory.intrinsic+json": {
              "type": "string"
            },
            "text/plain": [
              "'python python python python python '"
            ]
          },
          "metadata": {},
          "execution_count": 9
        }
      ]
    },
    {
      "cell_type": "markdown",
      "metadata": {
        "id": "y8B9Z4XK_82l"
      },
      "source": [
        "#예제 2-4"
      ]
    },
    {
      "cell_type": "code",
      "metadata": {
        "colab": {
          "base_uri": "https://localhost:8080/"
        },
        "id": "LA33I3gBABUK",
        "outputId": "b37c7f77-6736-4aef-a039-e8159ea304dd"
      },
      "source": [
        "print('='*20)\n",
        "print(\"I love python\")\n",
        "print(\"I like python\")\n",
        "print(\"=\"*20)"
      ],
      "execution_count": 10,
      "outputs": [
        {
          "output_type": "stream",
          "name": "stdout",
          "text": [
            "====================\n",
            "I love python\n",
            "I like python\n",
            "====================\n"
          ]
        }
      ]
    },
    {
      "cell_type": "code",
      "metadata": {
        "colab": {
          "base_uri": "https://localhost:8080/"
        },
        "id": "4MbDenjTCDs5",
        "outputId": "2df5ad7f-ed65-48dd-c3dc-4bf939f4502a"
      },
      "source": [
        "#변수 실습문제\n",
        "#2-1\n",
        "money = 1600\n",
        "price = 1000\n",
        "\n",
        "change = money-price\n",
        "change"
      ],
      "execution_count": 19,
      "outputs": [
        {
          "output_type": "execute_result",
          "data": {
            "text/plain": [
              "600"
            ]
          },
          "metadata": {},
          "execution_count": 19
        }
      ]
    },
    {
      "cell_type": "code",
      "metadata": {
        "colab": {
          "base_uri": "https://localhost:8080/"
        },
        "id": "Ex_tpVHXC3Qx",
        "outputId": "036b610e-c21b-42ff-943f-323a5ec78024"
      },
      "source": [
        "c500 = change//500 \n",
        "c500"
      ],
      "execution_count": 22,
      "outputs": [
        {
          "output_type": "execute_result",
          "data": {
            "text/plain": [
              "1"
            ]
          },
          "metadata": {},
          "execution_count": 22
        }
      ]
    },
    {
      "cell_type": "code",
      "metadata": {
        "colab": {
          "base_uri": "https://localhost:8080/"
        },
        "id": "liVAcma5EH3b",
        "outputId": "11a70086-ca56-4b1e-8c39-1c130c6dc0bb"
      },
      "source": [
        "t=change%500\n",
        "c100=t//100\n",
        "c100"
      ],
      "execution_count": 27,
      "outputs": [
        {
          "output_type": "execute_result",
          "data": {
            "text/plain": [
              "1"
            ]
          },
          "metadata": {},
          "execution_count": 27
        }
      ]
    },
    {
      "cell_type": "code",
      "metadata": {
        "colab": {
          "base_uri": "https://localhost:8080/"
        },
        "id": "6Kio9E64EgQW",
        "outputId": "44737b67-8121-43f9-80b2-52ea80badffc"
      },
      "source": [
        "print('coin500',c500)\n",
        "print('coin100',c100)"
      ],
      "execution_count": 28,
      "outputs": [
        {
          "output_type": "stream",
          "name": "stdout",
          "text": [
            "coin500 1\n",
            "coin100 1\n"
          ]
        }
      ]
    },
    {
      "cell_type": "code",
      "metadata": {
        "colab": {
          "base_uri": "https://localhost:8080/"
        },
        "id": "EhwBDzyREuCG",
        "outputId": "406fa80f-7a34-42ff-b6e6-ecea753f2661"
      },
      "source": [
        "#실습 2-2\n",
        "kor,eng,math=100,100,100\n",
        "sum=kor+eng+math\n",
        "avg=(kor+eng+math)/3\n",
        "print('sum',sum)\n",
        "print('avg',avg)"
      ],
      "execution_count": 32,
      "outputs": [
        {
          "output_type": "stream",
          "name": "stdout",
          "text": [
            "sum 300\n",
            "avg 100.0\n"
          ]
        }
      ]
    },
    {
      "cell_type": "code",
      "metadata": {
        "colab": {
          "base_uri": "https://localhost:8080/"
        },
        "id": "HQ0aUIS4FcE-",
        "outputId": "230e6f81-c37b-4415-ddf3-208f9da50209"
      },
      "source": [
        "#실습 2-3\n",
        "num1=25\n",
        "num2=10\n",
        "\n",
        "print(num1/num2)\n",
        "print(num1//num2)\n",
        "print(num1%num2)"
      ],
      "execution_count": 33,
      "outputs": [
        {
          "output_type": "stream",
          "name": "stdout",
          "text": [
            "2.5\n",
            "2\n",
            "5\n"
          ]
        }
      ]
    },
    {
      "cell_type": "code",
      "metadata": {
        "id": "dYrKe4FsGWyg"
      },
      "source": [
        ""
      ],
      "execution_count": null,
      "outputs": []
    }
  ]
}