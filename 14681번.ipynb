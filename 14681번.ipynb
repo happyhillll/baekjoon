{
  "nbformat": 4,
  "nbformat_minor": 0,
  "metadata": {
    "colab": {
      "name": "14681번.ipynb",
      "provenance": [],
      "authorship_tag": "ABX9TyNJsmjRgeCnseZEMeHAhy5L",
      "include_colab_link": true
    },
    "kernelspec": {
      "name": "python3",
      "display_name": "Python 3"
    },
    "language_info": {
      "name": "python"
    }
  },
  "cells": [
    {
      "cell_type": "markdown",
      "metadata": {
        "id": "view-in-github",
        "colab_type": "text"
      },
      "source": [
        "<a href=\"https://colab.research.google.com/github/happyhillll/baekjoon/blob/main/14681%EB%B2%88.ipynb\" target=\"_parent\"><img src=\"https://colab.research.google.com/assets/colab-badge.svg\" alt=\"Open In Colab\"/></a>"
      ]
    },
    {
      "cell_type": "code",
      "metadata": {
        "id": "jDRYk9euRXNj"
      },
      "source": [
        "'''\n",
        "첫 줄에는 정수 x가 주어진다. (−1000 ≤ x ≤ 1000; x ≠ 0) \n",
        "다음 줄에는 정수 y가 주어진다. (−1000 ≤ y ≤ 1000; y ≠ 0)\n",
        "출력 : 점 (x, y)의 사분면 번호(1, 2, 3, 4 중 하나)를 출력한다.\n",
        "'''"
      ],
      "execution_count": null,
      "outputs": []
    },
    {
      "cell_type": "code",
      "metadata": {
        "colab": {
          "base_uri": "https://localhost:8080/"
        },
        "id": "pwxgAlwCRpo9",
        "outputId": "9a1902cb-b57d-4739-e422-2fa793775017"
      },
      "source": [
        "x=int(input())\n",
        "y=int(input())\n",
        "\n",
        "if x>0 and y>0:\n",
        "  print(1)\n",
        "elif x<0 and y>0:\n",
        "  print(2)\n",
        "elif x>0 and y<0:\n",
        "  print(4)\n",
        "else:\n",
        "  print(3)"
      ],
      "execution_count": 4,
      "outputs": [
        {
          "output_type": "stream",
          "name": "stdout",
          "text": [
            "-9\n",
            "8\n",
            "2\n"
          ]
        }
      ]
    }
  ]
}